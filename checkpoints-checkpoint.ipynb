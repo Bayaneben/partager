{
 "cells": [
  {
   "cell_type": "markdown",
   "id": "8a46ed62",
   "metadata": {},
   "source": [
    "# Divisible par 7 et non multiple de 5"
   ]
  },
  {
   "cell_type": "code",
   "execution_count": 3,
   "id": "a220c853",
   "metadata": {},
   "outputs": [
    {
     "name": "stdout",
     "output_type": "stream",
     "text": [
      "[2002, 2009, 2016, 2023, 2037, 2044, 2051, 2058, 2072, 2079, 2086, 2093, 2107, 2114, 2121, 2128, 2142, 2149, 2156, 2163, 2177, 2184, 2191, 2198, 2212, 2219, 2226, 2233, 2247, 2254, 2261, 2268, 2282, 2289, 2296, 2303, 2317, 2324, 2331, 2338, 2352, 2359, 2366, 2373, 2387, 2394, 2401, 2408, 2422, 2429, 2436, 2443, 2457, 2464, 2471, 2478, 2492, 2499, 2506, 2513, 2527, 2534, 2541, 2548, 2562, 2569, 2576, 2583, 2597, 2604, 2611, 2618, 2632, 2639, 2646, 2653, 2667, 2674, 2681, 2688, 2702, 2709, 2716, 2723, 2737, 2744, 2751, 2758, 2772, 2779, 2786, 2793, 2807, 2814, 2821, 2828, 2842, 2849, 2856, 2863, 2877, 2884, 2891, 2898, 2912, 2919, 2926, 2933, 2947, 2954, 2961, 2968, 2982, 2989, 2996, 3003, 3017, 3024, 3031, 3038, 3052, 3059, 3066, 3073, 3087, 3094, 3101, 3108, 3122, 3129, 3136, 3143, 3157, 3164, 3171, 3178, 3192, 3199]\n"
     ]
    }
   ],
   "source": [
    "L=[]\n",
    "for i in range(2000,3201):\n",
    "    if (i%7==0) and (i%5!=0):\n",
    "        L.append(i)\n",
    "print(L)"
   ]
  },
  {
   "cell_type": "markdown",
   "id": "3c401fb8",
   "metadata": {},
   "source": [
    "# Factorial"
   ]
  },
  {
   "cell_type": "code",
   "execution_count": 36,
   "id": "5d8e7e3b",
   "metadata": {},
   "outputs": [
    {
     "name": "stdout",
     "output_type": "stream",
     "text": [
      "Enter a number: 5\n",
      "The factorial of 5 is 120\n"
     ]
    }
   ],
   "source": [
    "number=int(input(\"Enter a number: \"))\n",
    "factorial=1\n",
    "if number < 0:\n",
    "   print(\" the factorial doesn't exist for negative numbers\")\n",
    "elif number == 0:\n",
    "   print(\"The factorial of 0 is 1\")\n",
    "else:\n",
    "   for i in range(1,number + 1):\n",
    "       factorial = factorial*i\n",
    "   print(\"The factorial of\",number,\"is\",factorial)"
   ]
  },
  {
   "cell_type": "markdown",
   "id": "18d04615",
   "metadata": {},
   "source": [
    "# Dictionary"
   ]
  },
  {
   "cell_type": "code",
   "execution_count": 37,
   "id": "a123bf90",
   "metadata": {},
   "outputs": [
    {
     "name": "stdout",
     "output_type": "stream",
     "text": [
      "Enter an integer number: 3\n",
      "{1: 1, 2: 4, 3: 9}\n"
     ]
    }
   ],
   "source": [
    "n=int(input(\"Enter an integer number: \"))\n",
    "d={}\n",
    "for i in range(1,n+1):\n",
    "    d[i]=i*i\n",
    "print(d)\n"
   ]
  },
  {
   "cell_type": "markdown",
   "id": "47647c4e",
   "metadata": {},
   "source": [
    "# Missing_char"
   ]
  },
  {
   "cell_type": "code",
   "execution_count": 39,
   "id": "3e9c426c",
   "metadata": {},
   "outputs": [
    {
     "name": "stdout",
     "output_type": "stream",
     "text": [
      "enter a non-empty string Hello\n",
      "enter an integer number 2\n"
     ]
    },
    {
     "data": {
      "text/plain": [
       "'Helo'"
      ]
     },
     "execution_count": 39,
     "metadata": {},
     "output_type": "execute_result"
    }
   ],
   "source": [
    "def missing_char(s,n):\n",
    "   if n>=0 and n<len(s) :\n",
    "    new_s=s[:n]+s[n+1:]\n",
    "    return new_s\n",
    "s=input(\"enter a non-empty string \")\n",
    "n=int(input(\"enter an integer number \"))\n",
    "missing_char(s,n)"
   ]
  },
  {
   "cell_type": "markdown",
   "id": "9937b7ff",
   "metadata": {},
   "source": [
    "# Convert array to list"
   ]
  },
  {
   "cell_type": "code",
   "execution_count": 8,
   "id": "df4d7d3e",
   "metadata": {},
   "outputs": [
    {
     "data": {
      "text/plain": [
       "[[0, 1], [2, 3], [4, 5]]"
      ]
     },
     "execution_count": 8,
     "metadata": {},
     "output_type": "execute_result"
    }
   ],
   "source": [
    "import numpy as np\n",
    "array = np.array([[0,1], [2,3],[4,5]])\n",
    "l = array.tolist()\n",
    "l"
   ]
  },
  {
   "cell_type": "markdown",
   "id": "3b010262",
   "metadata": {},
   "source": [
    "# Covariance matrix"
   ]
  },
  {
   "cell_type": "code",
   "execution_count": 9,
   "id": "5e061fb4",
   "metadata": {},
   "outputs": [
    {
     "data": {
      "text/plain": [
       "array([[ 1., -1.],\n",
       "       [-1.,  1.]])"
      ]
     },
     "execution_count": 9,
     "metadata": {},
     "output_type": "execute_result"
    }
   ],
   "source": [
    "array1 = np.array([0,1,2])\n",
    "array2 = np.array([2,1,0])\n",
    "cov=np.cov(array1,array2)\n",
    "cov"
   ]
  },
  {
   "cell_type": "markdown",
   "id": "f3fce789",
   "metadata": {},
   "source": [
    "# Q= Square root of [(2*C*D)/H] "
   ]
  },
  {
   "cell_type": "code",
   "execution_count": 34,
   "id": "a44fe339",
   "metadata": {},
   "outputs": [
    {
     "name": "stdout",
     "output_type": "stream",
     "text": [
      "Enter number of elements 3\n",
      "Enter a number100\n",
      "Enter a number150\n",
      "Enter a number180\n",
      "[100, 150, 180]\n",
      "[18, 22, 24]\n"
     ]
    }
   ],
   "source": [
    "import math\n",
    "C=50\n",
    "H=30\n",
    "ls= []\n",
    "lsf=[]\n",
    "length = int(input(\"Enter number of elements \"))\n",
    "for i in range(0, length):\n",
    "    element = int(input(\"Enter a number\"))\n",
    "    ls.append(element)\n",
    "print(ls)\n",
    "for j in range(0,length):\n",
    "    m=round(math.sqrt((2*C*ls[j])/H))\n",
    "    lsf.append(m)\n",
    "print(lsf)"
   ]
  }
 ],
 "metadata": {
  "kernelspec": {
   "display_name": "Python 3 (ipykernel)",
   "language": "python",
   "name": "python3"
  },
  "language_info": {
   "codemirror_mode": {
    "name": "ipython",
    "version": 3
   },
   "file_extension": ".py",
   "mimetype": "text/x-python",
   "name": "python",
   "nbconvert_exporter": "python",
   "pygments_lexer": "ipython3",
   "version": "3.9.13"
  }
 },
 "nbformat": 4,
 "nbformat_minor": 5
}
